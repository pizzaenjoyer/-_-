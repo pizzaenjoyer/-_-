{
 "cells": [
  {
   "cell_type": "markdown",
   "id": "da4e850f",
   "metadata": {},
   "source": [
    "## На вход подаются три числа. Может ли существовать треугольник с такими сторонами? Если да, то определить его тип."
   ]
  },
  {
   "cell_type": "code",
   "execution_count": 11,
   "id": "7cfc0093",
   "metadata": {},
   "outputs": [
    {
     "name": "stdout",
     "output_type": "stream",
     "text": [
      "Введите a\n",
      "1\n",
      "Введите b\n",
      "1\n",
      "Введите c\n",
      "5\n",
      "Треугольник не существует\n"
     ]
    }
   ],
   "source": [
    "print(\"Введите a\")\n",
    "a=int(input())\n",
    "print(\"Введите b\")\n",
    "b=int(input())\n",
    "print(\"Введите c\")\n",
    "c=int(input())\n",
    "d=max(a,b,c)\n",
    "f=min(a,b,c)\n",
    "if (a<b + c)and(b<a+c)and(c<a+b):\n",
    "    print(\"Треугольник существует,\")\n",
    "    if (d**2 < f**2 + (a+b+c-d-f)**2):\n",
    "        print(\"и он остроугольный\")\n",
    "    elif (d**2 == f**2 + (a+b+c-d-f)**2):\n",
    "        print(\"и он прямоугольный\")\n",
    "    else:\n",
    "        print(\"и он тупоугольный\")\n",
    "    if (a==b)and(b==c):\n",
    "        print(\"Треугольник равносторонний\")\n",
    "    elif (a==b)or(a==c)or(b==c):\n",
    "        print(\"Треугольник равнобедренный\")\n",
    "else:\n",
    "    print(\"Треугольник не существует\")\n",
    "    \n",
    "    "
   ]
  }
 ],
 "metadata": {
  "kernelspec": {
   "display_name": "Python 3 (ipykernel)",
   "language": "python",
   "name": "python3"
  },
  "language_info": {
   "codemirror_mode": {
    "name": "ipython",
    "version": 3
   },
   "file_extension": ".py",
   "mimetype": "text/x-python",
   "name": "python",
   "nbconvert_exporter": "python",
   "pygments_lexer": "ipython3",
   "version": "3.9.7"
  }
 },
 "nbformat": 4,
 "nbformat_minor": 5
}
